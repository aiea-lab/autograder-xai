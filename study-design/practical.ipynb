{
 "cells": [
  {
   "cell_type": "markdown",
   "metadata": {},
   "source": [
    "### Problem: Frame Printing\n",
    "\n",
    "You are writing a program to help design signs for a local community fair. Your program will receive a slogan from each participant and needs to be able to transform the sentence into the desired format so it can be neatly fit onto a sign that follows the fair's specifications.\n",
    "\n",
    "The fair's specifications are as follows:\n",
    "* Each sign must have a top and a bottom border.\n",
    "* Each sign must have exactly one word per line, save for the border lines which must not have any words.\n",
    "* Each sign must be wide enough for every word to fit properly within its borders, with at least one space on either side of each word.\n",
    "\n",
    "For example, the slogan `\"Hellow World in a Frame\"` would be displayed as:\n",
    "\n",
    "![Frame Example](frame-example.png)\n",
    "\n",
    "Use out the function below to get started.\n",
    "\n",
    "How to test: `run this command to submit`\n",
    "\n",
    "(also tell them how to interpret the results, too, that's important.)"
   ]
  },
  {
   "cell_type": "code",
   "execution_count": 2,
   "metadata": {},
   "outputs": [],
   "source": [
    "def frame_printing(slogan: str) -> str:\n",
    "    # YOUR CODE HERE\n",
    "    return \"NOT IMPLEMENTED\""
   ]
  },
  {
   "cell_type": "code",
   "execution_count": 3,
   "metadata": {},
   "outputs": [],
   "source": [
    "def frame_printing_solution(slogan: str) -> str:\n",
    "    # First, split the words string into a list of strings\n",
    "    words = slogan.split(' ')\n",
    "    # print(words)\n",
    "\n",
    "    # Next, get the length of the longest word in words.\n",
    "    longest_word_length = len(max(words, key=len))\n",
    "    # print(longest_word_length)\n",
    "\n",
    "    # Print out the first border line\n",
    "    top_or_bottom_border = \"**\" + ('*' * longest_word_length) + \"**\\n\"\n",
    "    # print(top_or_bottom_border)\n",
    "\n",
    "    # Start building answer string, can immediately add the top border\n",
    "    answer_string = \"\"\n",
    "    answer_string += top_or_bottom_border\n",
    "\n",
    "    # Iterate through each word in the string and add it to the answer string\n",
    "    for word in words:\n",
    "        if len(word) and word.isalnum():\n",
    "            # Construst the string according to the following structure:\n",
    "            # '* '\n",
    "            # word\n",
    "            # ' ' * longest_word_length - len(word)\n",
    "            # ' *\\n'\n",
    "            cont_string = \"* \"\n",
    "            cont_string += word\n",
    "            cont_string += \" \" * (longest_word_length - len(word))\n",
    "            cont_string += \" *\\n\"\n",
    "\n",
    "            # Add the word string to the answer string\n",
    "            answer_string += cont_string\n",
    "\n",
    "    # Add the bottom border\n",
    "    answer_string += top_or_bottom_border[:len(top_or_bottom_border)-1]\n",
    "\n",
    "    return answer_string\n",
    "\n",
    "# case1_input = \"A Few Words Here \\n And There Work Things Out\"\n",
    "# case1_response = frame_printing_solution(case1_input)\n",
    "# print(case1_response)"
   ]
  },
  {
   "cell_type": "markdown",
   "metadata": {},
   "source": [
    "## Test cases\n",
    "\n",
    "These test cases will not actually be in the practical given to students. We want them to submit through 'python grader.py' to ensure they see explanation responses.\n",
    "\n",
    "If we decide to keep a local test case, make sure to use an assert or something, because everything printed out here will also be printed out when practical is imported into grader."
   ]
  },
  {
   "cell_type": "code",
   "execution_count": 4,
   "metadata": {},
   "outputs": [],
   "source": [
    "# case1_input = \"Hello World in a Frame\"\n",
    "# case1_response = frame_printing_solution(case1_input)\n",
    "# print(case1_response)"
   ]
  }
 ],
 "metadata": {
  "kernelspec": {
   "display_name": "3.10.16",
   "language": "python",
   "name": "python3"
  },
  "language_info": {
   "codemirror_mode": {
    "name": "ipython",
    "version": 3
   },
   "file_extension": ".py",
   "mimetype": "text/x-python",
   "name": "python",
   "nbconvert_exporter": "python",
   "pygments_lexer": "ipython3",
   "version": "3.10.16"
  }
 },
 "nbformat": 4,
 "nbformat_minor": 2
}
